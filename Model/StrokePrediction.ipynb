{
  "cells": [
    {
      "cell_type": "code",
      "execution_count": 3,
      "metadata": {
        "colab": {
          "base_uri": "https://localhost:8080/"
        },
        "id": "P6b4VmxKYB_l",
        "outputId": "f4d861fb-2422-4e66-d810-029201e9b985"
      },
      "outputs": [
        {
          "ename": "ModuleNotFoundError",
          "evalue": "No module named 'google'",
          "output_type": "error",
          "traceback": [
            "\u001b[1;31m---------------------------------------------------------------------------\u001b[0m",
            "\u001b[1;31mModuleNotFoundError\u001b[0m                       Traceback (most recent call last)",
            "Cell \u001b[1;32mIn[3], line 1\u001b[0m\n\u001b[1;32m----> 1\u001b[0m \u001b[39mfrom\u001b[39;00m \u001b[39mgoogle\u001b[39;00m\u001b[39m.\u001b[39;00m\u001b[39mcolab\u001b[39;00m \u001b[39mimport\u001b[39;00m drive\n\u001b[0;32m      2\u001b[0m drive\u001b[39m.\u001b[39mmount(\u001b[39m'\u001b[39m\u001b[39m/content/drive\u001b[39m\u001b[39m'\u001b[39m)\n",
            "\u001b[1;31mModuleNotFoundError\u001b[0m: No module named 'google'"
          ]
        }
      ],
      "source": [
        "from google.colab import drive\n",
        "drive.mount('/content/drive')"
      ]
    },
    {
      "cell_type": "code",
      "execution_count": null,
      "metadata": {
        "id": "HkrZ2eVph-v4"
      },
      "outputs": [],
      "source": [
        "# !pip install joblib"
      ]
    },
    {
      "cell_type": "code",
      "execution_count": 5,
      "metadata": {
        "id": "AJQcDp8gmUZR"
      },
      "outputs": [
        {
          "ename": "ModuleNotFoundError",
          "evalue": "No module named 'tensorflow'",
          "output_type": "error",
          "traceback": [
            "\u001b[1;31m---------------------------------------------------------------------------\u001b[0m",
            "\u001b[1;31mModuleNotFoundError\u001b[0m                       Traceback (most recent call last)",
            "Cell \u001b[1;32mIn[5], line 1\u001b[0m\n\u001b[1;32m----> 1\u001b[0m \u001b[39mimport\u001b[39;00m \u001b[39mtensorflow\u001b[39;00m \u001b[39mas\u001b[39;00m \u001b[39mtf\u001b[39;00m\n\u001b[0;32m      2\u001b[0m \u001b[39mfrom\u001b[39;00m \u001b[39mtensorflow\u001b[39;00m\u001b[39m.\u001b[39;00m\u001b[39mkeras\u001b[39;00m \u001b[39mimport\u001b[39;00m layers\n\u001b[0;32m      3\u001b[0m \u001b[39mfrom\u001b[39;00m \u001b[39msklearn\u001b[39;00m\u001b[39m.\u001b[39;00m\u001b[39mmodel_selection\u001b[39;00m \u001b[39mimport\u001b[39;00m train_test_split\n",
            "\u001b[1;31mModuleNotFoundError\u001b[0m: No module named 'tensorflow'"
          ]
        }
      ],
      "source": [
        "import tensorflow as tf\n",
        "from tensorflow.keras import layers\n",
        "from sklearn.model_selection import train_test_split\n",
        "from sklearn.preprocessing import MinMaxScaler\n",
        "from sklearn.preprocessing import OneHotEncoder, LabelEncoder\n",
        "from tensorflow.keras.models import load_model\n",
        "from sklearn import svm\n",
        "from sklearn.model_selection import train_test_split\n",
        "from sklearn.metrics import accuracy_score\n",
        "\n",
        "import matplotlib.pyplot as plt\n",
        "import pandas as pd\n",
        "import numpy as np\n",
        "import seaborn as sns\n",
        "import joblib"
      ]
    },
    {
      "cell_type": "code",
      "execution_count": null,
      "metadata": {},
      "outputs": [],
      "source": []
    },
    {
      "cell_type": "code",
      "execution_count": 3,
      "metadata": {
        "id": "dnqv4d92m4oi"
      },
      "outputs": [],
      "source": [
        "data = pd.read_csv('/content/drive/MyDrive/HocMay/healthcare-dataset-stroke-data.csv')"
      ]
    },
    {
      "cell_type": "markdown",
      "metadata": {
        "id": "LRAbOmFOichh"
      },
      "source": [
        "# Trực quan hóa dữ liệu"
      ]
    },
    {
      "cell_type": "code",
      "execution_count": null,
      "metadata": {
        "id": "DRRzYgp_Vzj2"
      },
      "outputs": [],
      "source": []
    },
    {
      "cell_type": "code",
      "execution_count": null,
      "metadata": {
        "id": "pmgjG7xFk0OI"
      },
      "outputs": [],
      "source": [
        "data.head(500)"
      ]
    },
    {
      "cell_type": "code",
      "execution_count": null,
      "metadata": {
        "id": "8WEsOEt5xkyZ"
      },
      "outputs": [],
      "source": []
    },
    {
      "cell_type": "code",
      "execution_count": null,
      "metadata": {
        "id": "7BsGAPkdkH4Q"
      },
      "outputs": [],
      "source": [
        "# Tính tổng số bệnh nhân dựa trên giới tính\n",
        "patient_count_by_stroke = data['stroke'].value_counts()\n",
        "\n",
        "# Trực quan hóa số lượng bệnh nhân\n",
        "plt.bar(patient_count_by_stroke.index, patient_count_by_stroke.values)\n",
        "plt.xlabel('Trạng thái bệnh')\n",
        "plt.ylabel('Số lượng bệnh nhân')\n",
        "plt.xticks([0, 1], ['Không bệnh', 'Có bệnh'])\n",
        "plt.title('Tổng số bệnh nhân có bệnh và không có bệnh')\n",
        "plt.show()"
      ]
    },
    {
      "cell_type": "code",
      "execution_count": null,
      "metadata": {
        "id": "3He3vPi4kx2A"
      },
      "outputs": [],
      "source": [
        "# Tính tổng số bệnh nhân dựa trên giới tính\n",
        "patient_count_by_stroke = data['stroke'].value_counts()\n",
        "\n",
        "# Trực quan hóa tỷ lệ phần trăm bằng biểu đồ pie\n",
        "labels = ['Không bệnh', 'Có bệnh']\n",
        "sizes = patient_count_by_stroke.values\n",
        "colors = ['#ff9999', '#66b3ff']\n",
        "explode = (0.1, 0)  # Tách biệt một phần để nhấn mạnh\n",
        "\n",
        "plt.pie(sizes, explode=explode, labels=labels, colors=colors, autopct='%1.1f%%', startangle=90)\n",
        "plt.axis('equal')  # Đảm bảo biểu đồ hình tròn\n",
        "plt.title('Phân phối bệnh nhân có bệnh và không có bệnh')\n",
        "plt.show()"
      ]
    },
    {
      "cell_type": "code",
      "execution_count": null,
      "metadata": {
        "id": "C3N6PQd7kvXY"
      },
      "outputs": [],
      "source": [
        "# Vẽ đồ thị mật độ cho cột \"gender\"\n",
        "plt.figure(figsize=(10, 6))\n",
        "plt.hist(data['gender'], density=True, bins=10, alpha=0.5)\n",
        "plt.xlabel('Dữ liệu về giới tính')\n",
        "plt.ylabel('Mật độ')\n",
        "plt.title('Biểu Đồ Mật Độ - Giới Tính')\n",
        "plt.show()\n",
        "\n",
        "# Vẽ đồ thị mật độ cho cột \"age\"\n",
        "plt.figure(figsize=(10, 6))\n",
        "plt.hist(data['age'], density=True, bins=10, alpha=0.5)\n",
        "plt.xlabel('Dữ liệu về độ tuổi')\n",
        "plt.ylabel('Mật độ')\n",
        "plt.title('Biểu Đồ Mật Độ - Tuổi')\n",
        "plt.show()\n",
        "\n",
        "# Vẽ đồ thị mật độ cho cột \"avg_glucose_level\"\n",
        "plt.figure(figsize=(10, 6))\n",
        "plt.hist(data['avg_glucose_level'], density=True, bins=10, alpha=0.5)\n",
        "plt.xlabel('Dữ liệu về mức độ glucose trung bình')\n",
        "plt.ylabel('Mật độ')\n",
        "plt.title('Biểu Đồ Mật Độ - Mức độ glucose trung bình')\n",
        "plt.show()\n",
        "\n",
        "# Vẽ đồ thị mật độ cho cột \"bmi\"\n",
        "plt.figure(figsize=(10, 6))\n",
        "plt.hist(data['bmi'], density=True, bins=10, alpha=0.5)\n",
        "plt.xlabel('Dữ liệu về BMI')\n",
        "plt.ylabel('Mật độ')\n",
        "plt.title('Biểu Đồ Mật Độ - BMI')\n",
        "plt.show()\n",
        "\n",
        "# Vẽ đồ thị mật độ cho cột \"hypertension\"\n",
        "plt.figure(figsize=(10, 6))\n",
        "plt.hist(data['hypertension'], density=True, bins=10, alpha=0.5)\n",
        "plt.xlabel('Huyết Áp')\n",
        "plt.ylabel('Mật độ')\n",
        "plt.title('Biểu Đồ Mật Độ - Huyết Áp')\n",
        "plt.show()\n",
        "\n",
        "# Vẽ đồ thị mật độ cho cột \"heart_disease\"\n",
        "plt.figure(figsize=(10, 6))\n",
        "plt.hist(data['heart_disease'], density=True, bins=10, alpha=0.5)\n",
        "plt.xlabel('Dữ liệu về Tim Mạch')\n",
        "plt.ylabel('Mật độ')\n",
        "plt.title('Biểu Đồ Mật Độ - Tim Mạch')\n",
        "plt.show()\n",
        "\n",
        "# Vẽ đồ thị mật độ cho cột \"ever_married\"\n",
        "plt.figure(figsize=(10, 6))\n",
        "plt.hist(data['ever_married'], density=True, bins=10, alpha=0.5)\n",
        "plt.xlabel('Dữ liệu về kết hôn')\n",
        "plt.ylabel('Mật độ')\n",
        "plt.title('Biểu Đồ Mật Độ - Kết hôn')\n",
        "plt.show()\n",
        "\n",
        "# Vẽ đồ thị mật độ cho cột \"work_type\"\n",
        "plt.figure(figsize=(10, 6))\n",
        "plt.hist(data['work_type'], density=True, bins=10, alpha=0.5)\n",
        "plt.xlabel('Dữ liệu về loại công việc')\n",
        "plt.ylabel('Mật độ')\n",
        "plt.title('Biểu Đồ Mật Độ - Loại công việc')\n",
        "plt.show()\n",
        "\n",
        "# Vẽ đồ thị mật độ cho cột \"Residence_type\"\n",
        "plt.figure(figsize=(10, 6))\n",
        "plt.hist(data['Residence_type'], density=True, bins=10, alpha=0.5)\n",
        "plt.xlabel('Dữ liệu về vị trí cư trú')\n",
        "plt.ylabel('Mật độ')\n",
        "plt.title('Biểu Đồ Mật Độ - Vị trí cư trú')\n",
        "plt.show()\n",
        "\n",
        "# Vẽ đồ thị mật độ cho cột \"smoking_status\"\n",
        "plt.figure(figsize=(10, 6))\n",
        "plt.hist(data['smoking_status'], density=True, bins=10, alpha=0.5)\n",
        "plt.xlabel('Dữ liệu về tình trạng hút thuốc')\n",
        "plt.ylabel('Mật độ')\n",
        "plt.title('Biểu Đồ Mật Độ - Tình Trạng Hút Thuốc')\n",
        "plt.show()\n",
        "\n",
        "# Vẽ đồ thị mật độ cho cột \"stroke\"\n",
        "plt.figure(figsize=(10, 6))\n",
        "plt.hist(data['stroke'], density=True, bins=10, alpha=0.5)\n",
        "plt.xlabel('Dữ liệu về bệnh đột quỵ')\n",
        "plt.ylabel('Mật độ')\n",
        "plt.title('Biểu Đồ Mật Độ - Đột Quỵ')\n",
        "plt.show()"
      ]
    },
    {
      "cell_type": "markdown",
      "metadata": {
        "id": "L_XuGirWi5dp"
      },
      "source": [
        "# Tiền xử lí dữ liệu"
      ]
    },
    {
      "cell_type": "code",
      "execution_count": null,
      "metadata": {
        "id": "914rtEbFi8_A"
      },
      "outputs": [],
      "source": []
    },
    {
      "cell_type": "markdown",
      "metadata": {
        "id": "TZlh9SjWira5"
      },
      "source": [
        "# Huấn luyện mô hình"
      ]
    },
    {
      "cell_type": "code",
      "execution_count": null,
      "metadata": {
        "id": "pBVVYHepi0oB"
      },
      "outputs": [],
      "source": []
    },
    {
      "cell_type": "code",
      "execution_count": null,
      "metadata": {
        "id": "6r-DU-tJIHLz"
      },
      "outputs": [],
      "source": [
        "data_cleaned = data.copy()  # Copy the original data\n",
        "\n",
        "# Replace null values with column mean\n",
        "data_cleaned['age'].fillna(data_cleaned['age'].mean(), inplace=True)\n",
        "data_cleaned['avg_glucose_level'].fillna(data_cleaned['avg_glucose_level'].mean(), inplace=True)\n",
        "data_cleaned['bmi'].fillna(data_cleaned['bmi'].mean(), inplace=True)\n",
        "\n",
        "# Drop unnecessary column 'id'\n",
        "data_cleaned = data_cleaned.drop(['id'], axis=1)\n",
        "\n",
        "# Encode categorical variables using LabelEncoder\n",
        "label_encoder = LabelEncoder()\n",
        "data_cleaned['gender'] = label_encoder.fit_transform(data_cleaned['gender'])\n",
        "data_cleaned['ever_married'] = label_encoder.fit_transform(data_cleaned['ever_married'])\n",
        "data_cleaned['work_type'] = label_encoder.fit_transform(data_cleaned['work_type'])\n",
        "data_cleaned['Residence_type'] = label_encoder.fit_transform(data_cleaned['Residence_type'])\n",
        "data_cleaned['smoking_status'] = label_encoder.fit_transform(data_cleaned['smoking_status'])\n",
        "\n",
        "# Split the data into features and target\n",
        "X = data_cleaned.drop(['stroke'], axis=1).values\n",
        "y = data_cleaned['stroke'].values"
      ]
    },
    {
      "cell_type": "code",
      "execution_count": null,
      "metadata": {
        "id": "fqNRfrAF-gAI"
      },
      "outputs": [],
      "source": [
        "data_cleaned = data.copy()  # Copy the original data\n",
        "\n",
        "# Replace null values with column mean\n",
        "data_cleaned['age'].fillna(data_cleaned['age'].min(), inplace=True)\n",
        "data_cleaned['avg_glucose_level'].fillna(data_cleaned['avg_glucose_level'].min(), inplace=True)\n",
        "data_cleaned['bmi'].fillna(data_cleaned['bmi'].min(), inplace=True)\n",
        "\n",
        "# Drop unnecessary column 'id'\n",
        "data_cleaned = data_cleaned.drop(['id'], axis=1)\n",
        "\n",
        "# Encode categorical variables using LabelEncoder\n",
        "label_encoder = LabelEncoder()\n",
        "data_cleaned['gender'] = label_encoder.fit_transform(data_cleaned['gender'])\n",
        "data_cleaned['ever_married'] = label_encoder.fit_transform(data_cleaned['ever_married'])\n",
        "data_cleaned['work_type'] = label_encoder.fit_transform(data_cleaned['work_type'])\n",
        "data_cleaned['Residence_type'] = label_encoder.fit_transform(data_cleaned['Residence_type'])\n",
        "data_cleaned['smoking_status'] = label_encoder.fit_transform(data_cleaned['smoking_status'])\n",
        "\n",
        "# Split the data into features and target\n",
        "X = data_cleaned.drop(['stroke'], axis=1).values\n",
        "y = data_cleaned['stroke'].values"
      ]
    },
    {
      "cell_type": "code",
      "execution_count": null,
      "metadata": {
        "id": "kpXOZgYR-gWJ"
      },
      "outputs": [],
      "source": [
        "data_cleaned = data.copy()  # Copy the original data\n",
        "\n",
        "# Replace null values with column mean\n",
        "data_cleaned['age'].fillna(data_cleaned['age'].max(), inplace=True)\n",
        "data_cleaned['avg_glucose_level'].fillna(data_cleaned['avg_glucose_level'].max(), inplace=True)\n",
        "data_cleaned['bmi'].fillna(data_cleaned['bmi'].max(), inplace=True)\n",
        "\n",
        "# Drop unnecessary column 'id'\n",
        "data_cleaned = data_cleaned.drop(['id'], axis=1)\n",
        "\n",
        "# Encode categorical variables using LabelEncoder\n",
        "label_encoder = LabelEncoder()\n",
        "data_cleaned['gender'] = label_encoder.fit_transform(data_cleaned['gender'])\n",
        "data_cleaned['ever_married'] = label_encoder.fit_transform(data_cleaned['ever_married'])\n",
        "data_cleaned['work_type'] = label_encoder.fit_transform(data_cleaned['work_type'])\n",
        "data_cleaned['Residence_type'] = label_encoder.fit_transform(data_cleaned['Residence_type'])\n",
        "data_cleaned['smoking_status'] = label_encoder.fit_transform(data_cleaned['smoking_status'])\n",
        "\n",
        "# Split the data into features and target\n",
        "X = data_cleaned.drop(['stroke'], axis=1).values\n",
        "y = data_cleaned['stroke'].values"
      ]
    },
    {
      "cell_type": "code",
      "execution_count": null,
      "metadata": {
        "colab": {
          "base_uri": "https://localhost:8080/"
        },
        "id": "sUSu9ccj8ZS5",
        "outputId": "3dc7f5a4-af8a-4e51-8687-eb9687af6be9"
      },
      "outputs": [
        {
          "name": "stdout",
          "output_type": "stream",
          "text": [
            "Accuracy: 0.7457627118644068\n"
          ]
        }
      ],
      "source": [
        "\n",
        "clf = svm.SVC()\n",
        "\n",
        "# Chia dữ liệu thành tập huấn luyện và tập kiểm tra\n",
        "X_train, X_test, y_train, y_test = train_test_split(X, y, test_size=0.2, random_state=42)\n",
        "\n",
        "# Huấn luyện mô hình trên tập huấn luyện\n",
        "clf.fit(X_train, y_train)\n",
        "\n",
        "# Dự đoán nhãn cho tập kiểm tra\n",
        "y_pred = clf.predict(X_test)\n",
        "\n",
        "# Đánh giá độ chính xác của mô hình\n",
        "accuracy = accuracy_score(y_test, y_pred)\n",
        "print(\"Accuracy:\", accuracy)"
      ]
    },
    {
      "cell_type": "code",
      "execution_count": null,
      "metadata": {
        "colab": {
          "base_uri": "https://localhost:8080/"
        },
        "id": "ptAHY7jV9U7x",
        "outputId": "0849390d-521f-41c0-f95b-f5500e475f94"
      },
      "outputs": [
        {
          "name": "stdout",
          "output_type": "stream",
          "text": [
            "Accuracy: 0.7711864406779662\n"
          ]
        }
      ],
      "source": [
        "\n",
        "clf = svm.SVC(kernel='linear')\n",
        "\n",
        "# Chia dữ liệu thành tập huấn luyện và tập kiểm tra\n",
        "X_train, X_test, y_train, y_test = train_test_split(X, y, test_size=0.2, random_state=42)\n",
        "\n",
        "# Huấn luyện mô hình trên tập huấn luyện\n",
        "clf.fit(X_train, y_train)\n",
        "\n",
        "# Dự đoán nhãn cho tập kiểm tra\n",
        "y_pred = clf.predict(X_test)\n",
        "\n",
        "# Đánh giá độ chính xác của mô hình\n",
        "accuracy = accuracy_score(y_test, y_pred)\n",
        "print(\"Accuracy:\", accuracy)"
      ]
    },
    {
      "cell_type": "code",
      "execution_count": null,
      "metadata": {
        "colab": {
          "base_uri": "https://localhost:8080/"
        },
        "id": "AIJfk6ItyEfS",
        "outputId": "0c669412-e917-404b-ad2f-e5018134daee"
      },
      "outputs": [
        {
          "name": "stdout",
          "output_type": "stream",
          "text": [
            "Accuracy: 0.6440677966101694\n"
          ]
        }
      ],
      "source": [
        "\n",
        "clf = svm.SVC(kernel='rbf', gamma=0.05, C=1000)\n",
        "\n",
        "# Chia dữ liệu thành tập huấn luyện và tập kiểm tra\n",
        "X_train, X_test, y_train, y_test = train_test_split(X, y, test_size=0.2, random_state=42)\n",
        "\n",
        "# Huấn luyện mô hình trên tập huấn luyện\n",
        "clf.fit(X_train, y_train)\n",
        "\n",
        "# Dự đoán nhãn cho tập kiểm tra\n",
        "y_pred = clf.predict(X_test)\n",
        "\n",
        "# Đánh giá độ chính xác của mô hình\n",
        "accuracy = accuracy_score(y_test, y_pred)\n",
        "print(\"Accuracy:\", accuracy)"
      ]
    },
    {
      "cell_type": "code",
      "execution_count": null,
      "metadata": {
        "id": "hOGgCVML96rT"
      },
      "outputs": [],
      "source": []
    },
    {
      "cell_type": "code",
      "execution_count": null,
      "metadata": {
        "id": "p6KDZt0vaWgd"
      },
      "outputs": [],
      "source": [
        "clf = joblib.load('svm_model_1.pkl')\n",
        "\n",
        "# Use the loaded model for prediction\n",
        "y_pred = clf.predict(X_test)\n"
      ]
    },
    {
      "cell_type": "code",
      "execution_count": null,
      "metadata": {
        "colab": {
          "base_uri": "https://localhost:8080/"
        },
        "id": "X0G00TrLbO4x",
        "outputId": "cd66ca3e-4642-43ac-9035-0860f1c24b02"
      },
      "outputs": [
        {
          "name": "stdout",
          "output_type": "stream",
          "text": [
            "0.652542372881356\n"
          ]
        }
      ],
      "source": [
        "accuracy = accuracy_score(y_test, y_pred)\n",
        "print(accuracy)"
      ]
    },
    {
      "cell_type": "code",
      "execution_count": null,
      "metadata": {
        "colab": {
          "base_uri": "https://localhost:8080/"
        },
        "id": "5alqiI0Nbfzc",
        "outputId": "9ff41ea1-8c98-46f0-cf24-a25db7aea0c7"
      },
      "outputs": [
        {
          "name": "stdout",
          "output_type": "stream",
          "text": [
            "0.625\n"
          ]
        }
      ],
      "source": [
        "from sklearn.metrics import precision_score\n",
        "\n",
        "precision = precision_score(y_test, y_pred)\n",
        "print(precision)"
      ]
    },
    {
      "cell_type": "code",
      "execution_count": null,
      "metadata": {
        "colab": {
          "base_uri": "https://localhost:8080/"
        },
        "id": "llLYrfeTVafk",
        "outputId": "f7e1f62d-e282-420c-ecf4-73c30b85cf99"
      },
      "outputs": [
        {
          "data": {
            "text/plain": [
              "['svm_model_1.pkl']"
            ]
          },
          "execution_count": 17,
          "metadata": {},
          "output_type": "execute_result"
        }
      ],
      "source": [
        "\n",
        "joblib.dump(clf, 'svm_model_1.pkl')"
      ]
    },
    {
      "cell_type": "code",
      "execution_count": null,
      "metadata": {
        "id": "xcrXQIzJ6kLL"
      },
      "outputs": [],
      "source": []
    }
  ],
  "metadata": {
    "colab": {
      "provenance": []
    },
    "kernelspec": {
      "display_name": "Python 3",
      "name": "python3"
    },
    "language_info": {
      "codemirror_mode": {
        "name": "ipython",
        "version": 3
      },
      "file_extension": ".py",
      "mimetype": "text/x-python",
      "name": "python",
      "nbconvert_exporter": "python",
      "pygments_lexer": "ipython3",
      "version": "3.10.11"
    }
  },
  "nbformat": 4,
  "nbformat_minor": 0
}
